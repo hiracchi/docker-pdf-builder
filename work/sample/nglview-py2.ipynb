{
 "cells": [
  {
   "cell_type": "code",
   "execution_count": 1,
   "metadata": {},
   "outputs": [
    {
     "data": {
      "text/plain": [
       "'1.1.7'"
      ]
     },
     "execution_count": 1,
     "metadata": {},
     "output_type": "execute_result"
    }
   ],
   "source": [
    "import nglview\n",
    "\n",
    "nglview.__version__\n"
   ]
  },
  {
   "cell_type": "code",
   "execution_count": 2,
   "metadata": {},
   "outputs": [
    {
     "data": {
      "application/vnd.jupyter.widget-view+json": {
       "model_id": "ab253c56f0e64681b7deca2c1e5e402f",
       "version_major": 2,
       "version_minor": 0
      },
      "text/plain": [
       "NGLWidget()"
      ]
     },
     "metadata": {},
     "output_type": "display_data"
    }
   ],
   "source": [
    "nglview.demo()"
   ]
  },
  {
   "cell_type": "code",
   "execution_count": 3,
   "metadata": {},
   "outputs": [
    {
     "data": {
      "application/vnd.jupyter.widget-view+json": {
       "model_id": "89ea7756c6a74c16a7a393717c88182e",
       "version_major": 2,
       "version_minor": 0
      },
      "text/plain": [
       "NGLWidget()"
      ]
     },
     "metadata": {},
     "output_type": "display_data"
    }
   ],
   "source": [
    "view = nglview.show_pdbid(\"3pqr\")  # load \"3pqr\" from RCSB PDB and display viewer widget\n",
    "view"
   ]
  },
  {
   "cell_type": "code",
   "execution_count": 4,
   "metadata": {},
   "outputs": [
    {
     "name": "stdout",
     "output_type": "stream",
     "text": [
      "Known nbextensions:\r\n",
      "  config dir: /root/.jupyter/nbconfig\r\n",
      "    notebook section\r\n",
      "      table_beautifier/main \u001b[32m enabled \u001b[0m\r\n",
      "      - Validating: \u001b[32mOK\u001b[0m\r\n",
      "      nbextensions_configurator/config_menu/main \u001b[32m enabled \u001b[0m\r\n",
      "      - Validating: problems found:\r\n",
      "        - require? \u001b[31m X\u001b[0m nbextensions_configurator/config_menu/main\r\n",
      "  config dir: /usr/etc/jupyter/nbconfig\r\n",
      "    notebook section\r\n",
      "      jupyter-js-widgets/extension \u001b[32m enabled \u001b[0m\r\n",
      "      - Validating: \u001b[32mOK\u001b[0m\r\n",
      "      nglview-js-widgets/extension \u001b[32m enabled \u001b[0m\r\n",
      "      - Validating: \u001b[32mOK\u001b[0m\r\n",
      "  config dir: /usr/local/etc/jupyter/nbconfig\r\n",
      "    notebook section\r\n",
      "      jupyter-js-widgets/extension \u001b[32m enabled \u001b[0m\r\n",
      "      - Validating: \u001b[32mOK\u001b[0m\r\n",
      "      nbextensions_configurator/config_menu/main \u001b[32m enabled \u001b[0m\r\n",
      "      - Validating: problems found:\r\n",
      "        - require? \u001b[31m X\u001b[0m nbextensions_configurator/config_menu/main\r\n",
      "      contrib_nbextensions_help_item/main \u001b[32m enabled \u001b[0m\r\n",
      "      - Validating: \u001b[32mOK\u001b[0m\r\n",
      "    tree section\r\n",
      "      nbextensions_configurator/tree_tab/main \u001b[32m enabled \u001b[0m\r\n",
      "      - Validating: problems found:\r\n",
      "        - require? \u001b[31m X\u001b[0m nbextensions_configurator/tree_tab/main\r\n"
     ]
    }
   ],
   "source": [
    "!jupyter-nbextension list "
   ]
  },
  {
   "cell_type": "code",
   "execution_count": null,
   "metadata": {},
   "outputs": [],
   "source": []
  }
 ],
 "metadata": {
  "kernelspec": {
   "display_name": "Python 3",
   "language": "python",
   "name": "python3"
  },
  "language_info": {
   "codemirror_mode": {
    "name": "ipython",
    "version": 3
   },
   "file_extension": ".py",
   "mimetype": "text/x-python",
   "name": "python",
   "nbconvert_exporter": "python",
   "pygments_lexer": "ipython3",
   "version": "3.6.6"
  }
 },
 "nbformat": 4,
 "nbformat_minor": 2
}
